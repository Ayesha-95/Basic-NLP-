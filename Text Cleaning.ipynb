{
 "cells": [
  {
   "cell_type": "code",
   "execution_count": 1,
   "id": "9f09cf5d",
   "metadata": {},
   "outputs": [],
   "source": [
    "import nltk"
   ]
  },
  {
   "cell_type": "code",
   "execution_count": 2,
   "id": "92991bb0",
   "metadata": {},
   "outputs": [],
   "source": [
    "#nltk.download()"
   ]
  },
  {
   "cell_type": "code",
   "execution_count": 3,
   "id": "52603149",
   "metadata": {},
   "outputs": [],
   "source": [
    "text = \"Hello! How are you! I'm very excited that you're going for a trip to Europe!! Yay!! :D\""
   ]
  },
  {
   "cell_type": "code",
   "execution_count": 4,
   "id": "1874f4fa",
   "metadata": {},
   "outputs": [
    {
     "name": "stdout",
     "output_type": "stream",
     "text": [
      "Hello How are you Im very excited that youre going for a trip to Europe Yay D\n"
     ]
    }
   ],
   "source": [
    "import re # regular expression\n",
    "new_text =re.sub(\"[^A-Za-z ]\", \"\" , text)\n",
    "print(new_text)"
   ]
  },
  {
   "cell_type": "code",
   "execution_count": 5,
   "id": "d97ff8e4",
   "metadata": {},
   "outputs": [
    {
     "data": {
      "text/plain": [
       "'hello how are you im very excited that youre going for a trip to europe yay d'"
      ]
     },
     "execution_count": 5,
     "metadata": {},
     "output_type": "execute_result"
    }
   ],
   "source": [
    "import string\n",
    "text_clean_string=\"\".join([i.lower() for i in text if i not in string.punctuation])\n",
    "text_clean_string"
   ]
  },
  {
   "cell_type": "code",
   "execution_count": 6,
   "id": "593ac358",
   "metadata": {},
   "outputs": [
    {
     "data": {
      "text/plain": [
       "['Hello',\n",
       " 'How',\n",
       " 'are',\n",
       " 'you',\n",
       " 'Im',\n",
       " 'very',\n",
       " 'excited',\n",
       " 'that',\n",
       " 'youre',\n",
       " 'going',\n",
       " 'for',\n",
       " 'a',\n",
       " 'trip',\n",
       " 'to',\n",
       " 'Europe',\n",
       " 'Yay',\n",
       " 'D']"
      ]
     },
     "execution_count": 6,
     "metadata": {},
     "output_type": "execute_result"
    }
   ],
   "source": [
    "nltk.tokenize.word_tokenize(new_text)"
   ]
  },
  {
   "cell_type": "code",
   "execution_count": 7,
   "id": "9783b91e",
   "metadata": {},
   "outputs": [
    {
     "data": {
      "text/plain": [
       "'!\"#$%&\\'()*+,-./:;<=>?@[\\\\]^_`{|}~'"
      ]
     },
     "execution_count": 7,
     "metadata": {},
     "output_type": "execute_result"
    }
   ],
   "source": [
    "string.punctuation"
   ]
  },
  {
   "cell_type": "code",
   "execution_count": 8,
   "id": "0714608f",
   "metadata": {},
   "outputs": [
    {
     "data": {
      "text/plain": [
       "['Hello', 'How', 'excited', 'youre', 'going', 'trip', 'Europe', 'Yay']"
      ]
     },
     "execution_count": 8,
     "metadata": {},
     "output_type": "execute_result"
    }
   ],
   "source": [
    "stopwords=nltk.corpus.stopwords.words(\"english\")\n",
    "n=[i for i in nltk.tokenize.word_tokenize(new_text) if i not in stopwords and len(i)>2]\n",
    "n"
   ]
  },
  {
   "cell_type": "code",
   "execution_count": 9,
   "id": "abc5817b",
   "metadata": {
    "scrolled": false
   },
   "outputs": [
    {
     "data": {
      "text/plain": [
       "['i',\n",
       " 'me',\n",
       " 'my',\n",
       " 'myself',\n",
       " 'we',\n",
       " 'our',\n",
       " 'ours',\n",
       " 'ourselves',\n",
       " 'you',\n",
       " \"you're\",\n",
       " \"you've\",\n",
       " \"you'll\",\n",
       " \"you'd\",\n",
       " 'your',\n",
       " 'yours',\n",
       " 'yourself',\n",
       " 'yourselves',\n",
       " 'he',\n",
       " 'him',\n",
       " 'his',\n",
       " 'himself',\n",
       " 'she',\n",
       " \"she's\",\n",
       " 'her',\n",
       " 'hers',\n",
       " 'herself',\n",
       " 'it',\n",
       " \"it's\",\n",
       " 'its',\n",
       " 'itself',\n",
       " 'they',\n",
       " 'them',\n",
       " 'their',\n",
       " 'theirs',\n",
       " 'themselves',\n",
       " 'what',\n",
       " 'which',\n",
       " 'who',\n",
       " 'whom',\n",
       " 'this',\n",
       " 'that',\n",
       " \"that'll\",\n",
       " 'these',\n",
       " 'those',\n",
       " 'am',\n",
       " 'is',\n",
       " 'are',\n",
       " 'was',\n",
       " 'were',\n",
       " 'be',\n",
       " 'been',\n",
       " 'being',\n",
       " 'have',\n",
       " 'has',\n",
       " 'had',\n",
       " 'having',\n",
       " 'do',\n",
       " 'does',\n",
       " 'did',\n",
       " 'doing',\n",
       " 'a',\n",
       " 'an',\n",
       " 'the',\n",
       " 'and',\n",
       " 'but',\n",
       " 'if',\n",
       " 'or',\n",
       " 'because',\n",
       " 'as',\n",
       " 'until',\n",
       " 'while',\n",
       " 'of',\n",
       " 'at',\n",
       " 'by',\n",
       " 'for',\n",
       " 'with',\n",
       " 'about',\n",
       " 'against',\n",
       " 'between',\n",
       " 'into',\n",
       " 'through',\n",
       " 'during',\n",
       " 'before',\n",
       " 'after',\n",
       " 'above',\n",
       " 'below',\n",
       " 'to',\n",
       " 'from',\n",
       " 'up',\n",
       " 'down',\n",
       " 'in',\n",
       " 'out',\n",
       " 'on',\n",
       " 'off',\n",
       " 'over',\n",
       " 'under',\n",
       " 'again',\n",
       " 'further',\n",
       " 'then',\n",
       " 'once',\n",
       " 'here',\n",
       " 'there',\n",
       " 'when',\n",
       " 'where',\n",
       " 'why',\n",
       " 'how',\n",
       " 'all',\n",
       " 'any',\n",
       " 'both',\n",
       " 'each',\n",
       " 'few',\n",
       " 'more',\n",
       " 'most',\n",
       " 'other',\n",
       " 'some',\n",
       " 'such',\n",
       " 'no',\n",
       " 'nor',\n",
       " 'not',\n",
       " 'only',\n",
       " 'own',\n",
       " 'same',\n",
       " 'so',\n",
       " 'than',\n",
       " 'too',\n",
       " 'very',\n",
       " 's',\n",
       " 't',\n",
       " 'can',\n",
       " 'will',\n",
       " 'just',\n",
       " 'don',\n",
       " \"don't\",\n",
       " 'should',\n",
       " \"should've\",\n",
       " 'now',\n",
       " 'd',\n",
       " 'll',\n",
       " 'm',\n",
       " 'o',\n",
       " 're',\n",
       " 've',\n",
       " 'y',\n",
       " 'ain',\n",
       " 'aren',\n",
       " \"aren't\",\n",
       " 'couldn',\n",
       " \"couldn't\",\n",
       " 'didn',\n",
       " \"didn't\",\n",
       " 'doesn',\n",
       " \"doesn't\",\n",
       " 'hadn',\n",
       " \"hadn't\",\n",
       " 'hasn',\n",
       " \"hasn't\",\n",
       " 'haven',\n",
       " \"haven't\",\n",
       " 'isn',\n",
       " \"isn't\",\n",
       " 'ma',\n",
       " 'mightn',\n",
       " \"mightn't\",\n",
       " 'mustn',\n",
       " \"mustn't\",\n",
       " 'needn',\n",
       " \"needn't\",\n",
       " 'shan',\n",
       " \"shan't\",\n",
       " 'shouldn',\n",
       " \"shouldn't\",\n",
       " 'wasn',\n",
       " \"wasn't\",\n",
       " 'weren',\n",
       " \"weren't\",\n",
       " 'won',\n",
       " \"won't\",\n",
       " 'wouldn',\n",
       " \"wouldn't\"]"
      ]
     },
     "execution_count": 9,
     "metadata": {},
     "output_type": "execute_result"
    }
   ],
   "source": [
    "stopwords"
   ]
  },
  {
   "cell_type": "code",
   "execution_count": 10,
   "id": "0be38e2a",
   "metadata": {},
   "outputs": [
    {
     "data": {
      "text/plain": [
       "['hello', 'how', 'excit', 'your', 'go', 'trip', 'europ', 'yay']"
      ]
     },
     "execution_count": 10,
     "metadata": {},
     "output_type": "execute_result"
    }
   ],
   "source": [
    "ps=nltk.PorterStemmer()\n",
    "stemming_words=[ps.stem(word) for word in n]\n",
    "stemming_words"
   ]
  },
  {
   "cell_type": "code",
   "execution_count": 11,
   "id": "0a1e5d0e",
   "metadata": {},
   "outputs": [
    {
     "data": {
      "text/plain": [
       "['Hello', 'How', 'excited', 'youre', 'going', 'trip', 'Europe', 'Yay']"
      ]
     },
     "execution_count": 11,
     "metadata": {},
     "output_type": "execute_result"
    }
   ],
   "source": [
    "le=nltk.WordNetLemmatizer()\n",
    "lemm_words=[le.lemmatize(word) for word in n]\n",
    "lemm_words"
   ]
  },
  {
   "cell_type": "code",
   "execution_count": 12,
   "id": "42a5e9b1",
   "metadata": {},
   "outputs": [],
   "source": [
    "from wordcloud import WordCloud"
   ]
  },
  {
   "cell_type": "code",
   "execution_count": 13,
   "id": "9dad9d71",
   "metadata": {},
   "outputs": [],
   "source": [
    "import matplotlib.pyplot as plt\n",
    "%matplotlib inline\n",
    "\n",
    "allwords=\" \".join([i for i in lemm_words])"
   ]
  },
  {
   "cell_type": "code",
   "execution_count": 14,
   "id": "4e9f9423",
   "metadata": {},
   "outputs": [
    {
     "data": {
      "text/plain": [
       "'Hello How excited youre going trip Europe Yay'"
      ]
     },
     "execution_count": 14,
     "metadata": {},
     "output_type": "execute_result"
    }
   ],
   "source": [
    "allwords"
   ]
  },
  {
   "cell_type": "code",
   "execution_count": 15,
   "id": "8e2f98f4",
   "metadata": {},
   "outputs": [],
   "source": [
    "word_cloud=WordCloud().generate(allwords)"
   ]
  },
  {
   "cell_type": "code",
   "execution_count": 16,
   "id": "4a170ff8",
   "metadata": {},
   "outputs": [
    {
     "data": {
      "image/png": "[encoded data removed]",
      "text/plain": [
       "<Figure size 432x288 with 1 Axes>"
      ]
     },
     "metadata": {
      "needs_background": "light"
     },
     "output_type": "display_data"
    }
   ],
   "source": [
    "plt.imshow(word_cloud)\n",
    "plt.axis('off');"
   ]
  },
  {
   "cell_type": "code",
   "execution_count": 17,
   "id": "6f4fa5f9",
   "metadata": {},
   "outputs": [],
   "source": [
    "# feature engg for text data would be converting the text into number as text can't be passed into algorithm"
   ]
  },
  {
   "cell_type": "code",
   "execution_count": 18,
   "id": "024c6785",
   "metadata": {},
   "outputs": [],
   "source": [
    "from sklearn.feature_extraction.text import CountVectorizer\n",
    "text = [\"My name is Shaheen and I am studying to do good in data Science field\"]\n",
    "text1= ['I am learning Natural language processing']        "
   ]
  },
  {
   "cell_type": "code",
   "execution_count": 19,
   "id": "f9beb867",
   "metadata": {},
   "outputs": [],
   "source": [
    "vectorizer=CountVectorizer()"
   ]
  },
  {
   "cell_type": "code",
   "execution_count": 20,
   "id": "ff1f6edb",
   "metadata": {},
   "outputs": [
    {
     "data": {
      "text/plain": [
       "CountVectorizer()"
      ]
     },
     "execution_count": 20,
     "metadata": {},
     "output_type": "execute_result"
    }
   ],
   "source": [
    "vectorizer.fit(text)"
   ]
  },
  {
   "cell_type": "code",
   "execution_count": 21,
   "id": "ddcfd348",
   "metadata": {},
   "outputs": [
    {
     "name": "stdout",
     "output_type": "stream",
     "text": [
      "{'my': 8, 'name': 9, 'is': 7, 'shaheen': 11, 'and': 1, 'am': 0, 'studying': 12, 'to': 13, 'do': 3, 'good': 5, 'in': 6, 'data': 2, 'science': 10, 'field': 4}\n"
     ]
    }
   ],
   "source": [
    "print(vectorizer.vocabulary_)"
   ]
  },
  {
   "cell_type": "code",
   "execution_count": 22,
   "id": "2ad22c1f",
   "metadata": {},
   "outputs": [],
   "source": [
    "# how the numbers have been asssigned to the words.\n",
    "#a : am=0 , and=1\n",
    "#b\n",
    "#c\n",
    "#d : data=2 , do=3\n",
    "#e\n",
    "#f : field=5\n",
    "# alphabetical order of all the words present is vectorized"
   ]
  },
  {
   "cell_type": "code",
   "execution_count": 23,
   "id": "4002590c",
   "metadata": {},
   "outputs": [
    {
     "name": "stdout",
     "output_type": "stream",
     "text": [
      "[[1 0 0 0 0 0 0 0 0 0 0 0 0 0]]\n"
     ]
    }
   ],
   "source": [
    "new_vector=vectorizer.transform(text1)\n",
    "print(new_vector.toarray())"
   ]
  },
  {
   "cell_type": "code",
   "execution_count": 24,
   "id": "9735fabc",
   "metadata": {},
   "outputs": [],
   "source": [
    "# only one word is common in both the documents and so a sparse matrix is created."
   ]
  },
  {
   "cell_type": "code",
   "execution_count": 25,
   "id": "34305b7a",
   "metadata": {},
   "outputs": [
    {
     "data": {
      "text/plain": [
       "TfidfVectorizer()"
      ]
     },
     "execution_count": 25,
     "metadata": {},
     "output_type": "execute_result"
    }
   ],
   "source": [
    "from sklearn.feature_extraction.text import TfidfVectorizer\n",
    "\n",
    "text = [\"My name is Shaheen\", \"I am studying to do good in data Science field.\",\" I love to learn and explore\"]\n",
    "\n",
    "tfidf_vectorizer=TfidfVectorizer()\n",
    "tfidf_vectorizer.fit(text)"
   ]
  },
  {
   "cell_type": "code",
   "execution_count": 26,
   "id": "099ef6ed",
   "metadata": {},
   "outputs": [
    {
     "name": "stdout",
     "output_type": "stream",
     "text": [
      "[1.69314718 1.69314718 1.69314718 1.69314718 1.69314718 1.69314718\n",
      " 1.69314718 1.69314718 1.69314718 1.69314718 1.69314718 1.69314718\n",
      " 1.69314718 1.69314718 1.69314718 1.69314718 1.28768207]\n"
     ]
    }
   ],
   "source": [
    "print(tfidf_vectorizer.idf_)"
   ]
  },
  {
   "cell_type": "code",
   "execution_count": 27,
   "id": "ebeef823",
   "metadata": {},
   "outputs": [
    {
     "name": "stdout",
     "output_type": "stream",
     "text": [
      "{'my': 11, 'name': 12, 'is': 8, 'shaheen': 14, 'am': 0, 'studying': 15, 'to': 16, 'do': 3, 'good': 6, 'in': 7, 'data': 2, 'science': 13, 'field': 5, 'love': 10, 'learn': 9, 'and': 1, 'explore': 4}\n"
     ]
    }
   ],
   "source": [
    "print(tfidf_vectorizer.vocabulary_)"
   ]
  },
  {
   "cell_type": "code",
   "execution_count": 28,
   "id": "39012663",
   "metadata": {},
   "outputs": [],
   "source": [
    "input_text=text[2]"
   ]
  },
  {
   "cell_type": "code",
   "execution_count": 29,
   "id": "0bd5fc98",
   "metadata": {},
   "outputs": [],
   "source": [
    "vector=tfidf_vectorizer.transform([input_text])"
   ]
  },
  {
   "cell_type": "code",
   "execution_count": 30,
   "id": "7a9fd3e7",
   "metadata": {
    "scrolled": true
   },
   "outputs": [
    {
     "name": "stdout",
     "output_type": "stream",
     "text": [
      "[[0.         0.46735098 0.         0.         0.46735098 0.\n",
      "  0.         0.         0.         0.46735098 0.46735098 0.\n",
      "  0.         0.         0.         0.         0.35543247]]\n"
     ]
    }
   ],
   "source": [
    "print(vector.toarray())"
   ]
  },
  {
   "cell_type": "code",
   "execution_count": 31,
   "id": "fd9c0701",
   "metadata": {},
   "outputs": [],
   "source": [
    "# Regular Expression"
   ]
  },
  {
   "cell_type": "code",
   "execution_count": 32,
   "id": "182c0eff",
   "metadata": {},
   "outputs": [],
   "source": [
    "String='foo123bar'"
   ]
  },
  {
   "cell_type": "code",
   "execution_count": 33,
   "id": "93277204",
   "metadata": {},
   "outputs": [
    {
     "data": {
      "text/plain": [
       "<re.Match object; span=(3, 6), match='123'>"
      ]
     },
     "execution_count": 33,
     "metadata": {},
     "output_type": "execute_result"
    }
   ],
   "source": [
    "re.search(\"[0-9][0-9][0-9]\",String)"
   ]
  },
  {
   "cell_type": "code",
   "execution_count": 34,
   "id": "150dcc0b",
   "metadata": {},
   "outputs": [],
   "source": [
    "X = re.findall(\"\\D\", String)"
   ]
  },
  {
   "cell_type": "code",
   "execution_count": 35,
   "id": "5dbcd768",
   "metadata": {},
   "outputs": [
    {
     "data": {
      "text/plain": [
       "['f', 'o', 'o', 'b', 'a', 'r']"
      ]
     },
     "execution_count": 35,
     "metadata": {},
     "output_type": "execute_result"
    }
   ],
   "source": [
    "X"
   ]
  },
  {
   "cell_type": "code",
   "execution_count": 36,
   "id": "c85d4383",
   "metadata": {},
   "outputs": [],
   "source": [
    "# we have 4 main function in re\n",
    "# findall : return the output of all th matches\n",
    "# search :  return a match object if there is any matching object\n",
    "# split : returns a list where the string has been split at each match\n",
    "# sub : replaces matches with the a string "
   ]
  },
  {
   "cell_type": "code",
   "execution_count": 37,
   "id": "de016ac1",
   "metadata": {},
   "outputs": [
    {
     "name": "stdout",
     "output_type": "stream",
     "text": [
      "['The', 'rain', 'in', 'Spain']\n"
     ]
    }
   ],
   "source": [
    "txt = \"The rain in Spain\"\n",
    "x = re.split(\"\\s\", txt)\n",
    "print(x)"
   ]
  },
  {
   "cell_type": "code",
   "execution_count": 38,
   "id": "d5f18078",
   "metadata": {},
   "outputs": [
    {
     "data": {
      "text/plain": [
       "['F', 'O', 'O', 'D', 'B', 'A', 'R', '1', '2', '3']"
      ]
     },
     "execution_count": 38,
     "metadata": {},
     "output_type": "execute_result"
    }
   ],
   "source": [
    "T1= \"FOODBAR123\"\n",
    "re.findall(\"[0-9A-Za-z]\", T1)"
   ]
  },
  {
   "cell_type": "code",
   "execution_count": 39,
   "id": "995212e8",
   "metadata": {},
   "outputs": [],
   "source": [
    "T2= \"-------ao-----------\"\n",
    "a=re.findall('[0-9a-zA-Z]',T2)"
   ]
  },
  {
   "cell_type": "code",
   "execution_count": 40,
   "id": "e76ac319",
   "metadata": {},
   "outputs": [
    {
     "data": {
      "text/plain": [
       "'ao'"
      ]
     },
     "execution_count": 40,
     "metadata": {},
     "output_type": "execute_result"
    }
   ],
   "source": [
    "''.join(a)"
   ]
  },
  {
   "cell_type": "code",
   "execution_count": 41,
   "id": "dc4562bd",
   "metadata": {},
   "outputs": [],
   "source": [
    "b=re.findall('[^0-9]',T2)"
   ]
  },
  {
   "cell_type": "code",
   "execution_count": 42,
   "id": "98c922f0",
   "metadata": {},
   "outputs": [
    {
     "data": {
      "text/plain": [
       "'-------ao-----------'"
      ]
     },
     "execution_count": 42,
     "metadata": {},
     "output_type": "execute_result"
    }
   ],
   "source": [
    "''.join(b)"
   ]
  },
  {
   "cell_type": "code",
   "execution_count": 43,
   "id": "ef18c195",
   "metadata": {},
   "outputs": [],
   "source": [
    "Name= \"Shah%ee#n\""
   ]
  },
  {
   "cell_type": "code",
   "execution_count": 44,
   "id": "3d232ca9",
   "metadata": {},
   "outputs": [],
   "source": [
    "sp=string.punctuation"
   ]
  },
  {
   "cell_type": "code",
   "execution_count": 45,
   "id": "bb5f25ca",
   "metadata": {},
   "outputs": [],
   "source": [
    "c=re.findall(\"[^%#]\",Name)"
   ]
  },
  {
   "cell_type": "code",
   "execution_count": 46,
   "id": "b835f920",
   "metadata": {},
   "outputs": [
    {
     "data": {
      "text/plain": [
       "['S', 'h', 'a', 'h', 'e', 'e', 'n']"
      ]
     },
     "execution_count": 46,
     "metadata": {},
     "output_type": "execute_result"
    }
   ],
   "source": [
    "c"
   ]
  },
  {
   "cell_type": "code",
   "execution_count": 47,
   "id": "f2a3798d",
   "metadata": {},
   "outputs": [],
   "source": [
    "# define tokenized senences as training data\n",
    "tokenized_sentences = [['Hello','This','is','python','training','by','Rohan'],\n",
    "             ['Hello','This','is','Java','training','by','Rohan'],\n",
    "             ['Hello','This','is','Data Science','training','by','PROSCHOOL','Data','Science'],\n",
    "             ['Hello','This','is','programming','training','']]"
   ]
  },
  {
   "cell_type": "code",
   "execution_count": 48,
   "id": "9bccde08",
   "metadata": {},
   "outputs": [],
   "source": [
    "from gensim.models import Word2Vec\n",
    "import warnings\n",
    "warnings.filterwarnings('ignore')\n",
    "mymodel=Word2Vec(tokenized_sentences,min_count=1)"
   ]
  },
  {
   "cell_type": "code",
   "execution_count": 49,
   "id": "69b108c2",
   "metadata": {},
   "outputs": [
    {
     "name": "stdout",
     "output_type": "stream",
     "text": [
      "Word2Vec(vocab=14, vector_size=100, alpha=0.025)\n"
     ]
    }
   ],
   "source": [
    "print(mymodel)"
   ]
  },
  {
   "cell_type": "code",
   "execution_count": 54,
   "id": "a38cd69c",
   "metadata": {},
   "outputs": [],
   "source": [
    "#summarize vocabulary\n",
    "words=list(mymodel.wv.index_to_key)\n",
    "# in gensim 3 we could have used the keyword : Vocab instead of index_to_keys"
   ]
  },
  {
   "cell_type": "code",
   "execution_count": 55,
   "id": "09c8bfb4",
   "metadata": {},
   "outputs": [
    {
     "name": "stdout",
     "output_type": "stream",
     "text": [
      "['training', 'is', 'This', 'Hello', 'by', 'Rohan', '', 'programming', 'Science', 'Data', 'PROSCHOOL', 'Data Science', 'Java', 'python']\n"
     ]
    }
   ],
   "source": [
    "print(words)"
   ]
  },
  {
   "cell_type": "code",
   "execution_count": 64,
   "id": "aa4759ad",
   "metadata": {},
   "outputs": [
    {
     "data": {
      "text/plain": [
       "[('training', 0.21617144346237183),\n",
       " ('Science', 0.04467388987541199),\n",
       " ('PROSCHOOL', 0.015019134618341923),\n",
       " ('', 0.0019510614220052958),\n",
       " ('This', -0.032843127846717834),\n",
       " ('Java', -0.04568908363580704),\n",
       " ('Data Science', -0.07425408065319061),\n",
       " ('programming', -0.09326909482479095),\n",
       " ('is', -0.09575393050909042),\n",
       " ('Rohan', -0.10513805598020554)]"
      ]
     },
     "execution_count": 64,
     "metadata": {},
     "output_type": "execute_result"
    }
   ],
   "source": [
    "# most similar words for data\n",
    "mymodel.wv.most_similar(\"Data\")"
   ]
  },
  {
   "cell_type": "code",
   "execution_count": 65,
   "id": "c1fd158a",
   "metadata": {},
   "outputs": [],
   "source": [
    "import gensim.models.keyedvectors as w2v\n",
    "from gensim.models import KeyedVectors"
   ]
  },
  {
   "cell_type": "code",
   "execution_count": 71,
   "id": "cc3579e1",
   "metadata": {},
   "outputs": [],
   "source": [
    " File = \"GoogleNews-vectors-negative300.bin\""
   ]
  },
  {
   "cell_type": "code",
   "execution_count": 72,
   "id": "70c99777",
   "metadata": {},
   "outputs": [],
   "source": [
    "PreTrainedModel=KeyedVectors.load_word2vec_format(File,binary=True)"
   ]
  },
  {
   "cell_type": "code",
   "execution_count": 2,
   "id": "7982207e",
   "metadata": {
    "scrolled": true
   },
   "outputs": [],
   "source": [
    "#calculate: (king - man) + woman \n",
    "result = PreTrainedModel.most_similar(\"Data\")"
   ]
  },
  {
   "cell_type": "code",
   "execution_count": null,
   "id": "a565d89f",
   "metadata": {},
   "outputs": [],
   "source": []
  }
 ],
 "metadata": {
  "kernelspec": {
   "display_name": "Python 3",
   "language": "python",
   "name": "python3"
  },
  "language_info": {
   "codemirror_mode": {
    "name": "ipython",
    "version": 3
   },
   "file_extension": ".py",
   "mimetype": "text/x-python",
   "name": "python",
   "nbconvert_exporter": "python",
   "pygments_lexer": "ipython3",
   "version": "3.8.8"
  }
 },
 "nbformat": 4,
 "nbformat_minor": 5
}
